{
 "cells": [
  {
   "cell_type": "code",
   "execution_count": 9,
   "metadata": {},
   "outputs": [],
   "source": [
    "import pandas as pd"
   ]
  },
  {
   "cell_type": "code",
   "execution_count": 15,
   "metadata": {},
   "outputs": [],
   "source": [
    "df = pd.DataFrame(columns = ['sgd_HdAdam', 'sgd_Hd', 'sgd_Hdmomentum', 'sgd', 'sgdn_Hd',\n",
    " 'sgdn_Hdmomentum', 'sgdn', 'adam_HdAdam', 'adam', 'adam_Hd'])"
   ]
  },
  {
   "cell_type": "code",
   "execution_count": 16,
   "metadata": {},
   "outputs": [
    {
     "data": {
      "text/html": [
       "<div>\n",
       "<style scoped>\n",
       "    .dataframe tbody tr th:only-of-type {\n",
       "        vertical-align: middle;\n",
       "    }\n",
       "\n",
       "    .dataframe tbody tr th {\n",
       "        vertical-align: top;\n",
       "    }\n",
       "\n",
       "    .dataframe thead th {\n",
       "        text-align: right;\n",
       "    }\n",
       "</style>\n",
       "<table border=\"1\" class=\"dataframe\">\n",
       "  <thead>\n",
       "    <tr style=\"text-align: right;\">\n",
       "      <th></th>\n",
       "      <th>sgd_HdAdam</th>\n",
       "      <th>sgd_Hd</th>\n",
       "      <th>sgd_Hdmomentum</th>\n",
       "      <th>sgd</th>\n",
       "      <th>sgdn_Hd</th>\n",
       "      <th>sgdn_Hdmomentum</th>\n",
       "      <th>sgdn</th>\n",
       "      <th>adam_HdAdam</th>\n",
       "      <th>adam</th>\n",
       "      <th>adam_Hd</th>\n",
       "    </tr>\n",
       "  </thead>\n",
       "  <tbody>\n",
       "  </tbody>\n",
       "</table>\n",
       "</div>"
      ],
      "text/plain": [
       "Empty DataFrame\n",
       "Columns: [sgd_HdAdam, sgd_Hd, sgd_Hdmomentum, sgd, sgdn_Hd, sgdn_Hdmomentum, sgdn, adam_HdAdam, adam, adam_Hd]\n",
       "Index: []"
      ]
     },
     "execution_count": 16,
     "metadata": {},
     "output_type": "execute_result"
    }
   ],
   "source": [
    "df"
   ]
  },
  {
   "cell_type": "code",
   "execution_count": 17,
   "metadata": {},
   "outputs": [
    {
     "data": {
      "text/plain": [
       "Index([], dtype='object')"
      ]
     },
     "execution_count": 17,
     "metadata": {},
     "output_type": "execute_result"
    }
   ],
   "source": [
    "df.index"
   ]
  },
  {
   "cell_type": "code",
   "execution_count": 18,
   "metadata": {},
   "outputs": [],
   "source": [
    "df['alpha0'] = pd.Series([0.01, 0.005, 0.001, 0.0005, 0.0001])"
   ]
  },
  {
   "cell_type": "code",
   "execution_count": 19,
   "metadata": {},
   "outputs": [
    {
     "data": {
      "text/html": [
       "<div>\n",
       "<style scoped>\n",
       "    .dataframe tbody tr th:only-of-type {\n",
       "        vertical-align: middle;\n",
       "    }\n",
       "\n",
       "    .dataframe tbody tr th {\n",
       "        vertical-align: top;\n",
       "    }\n",
       "\n",
       "    .dataframe thead th {\n",
       "        text-align: right;\n",
       "    }\n",
       "</style>\n",
       "<table border=\"1\" class=\"dataframe\">\n",
       "  <thead>\n",
       "    <tr style=\"text-align: right;\">\n",
       "      <th></th>\n",
       "      <th>sgd_HdAdam</th>\n",
       "      <th>sgd_Hd</th>\n",
       "      <th>sgd_Hdmomentum</th>\n",
       "      <th>sgd</th>\n",
       "      <th>sgdn_Hd</th>\n",
       "      <th>sgdn_Hdmomentum</th>\n",
       "      <th>sgdn</th>\n",
       "      <th>adam_HdAdam</th>\n",
       "      <th>adam</th>\n",
       "      <th>adam_Hd</th>\n",
       "      <th>alpha0</th>\n",
       "    </tr>\n",
       "  </thead>\n",
       "  <tbody>\n",
       "    <tr>\n",
       "      <th>0</th>\n",
       "      <td>NaN</td>\n",
       "      <td>NaN</td>\n",
       "      <td>NaN</td>\n",
       "      <td>NaN</td>\n",
       "      <td>NaN</td>\n",
       "      <td>NaN</td>\n",
       "      <td>NaN</td>\n",
       "      <td>NaN</td>\n",
       "      <td>NaN</td>\n",
       "      <td>NaN</td>\n",
       "      <td>0.0100</td>\n",
       "    </tr>\n",
       "    <tr>\n",
       "      <th>1</th>\n",
       "      <td>NaN</td>\n",
       "      <td>NaN</td>\n",
       "      <td>NaN</td>\n",
       "      <td>NaN</td>\n",
       "      <td>NaN</td>\n",
       "      <td>NaN</td>\n",
       "      <td>NaN</td>\n",
       "      <td>NaN</td>\n",
       "      <td>NaN</td>\n",
       "      <td>NaN</td>\n",
       "      <td>0.0050</td>\n",
       "    </tr>\n",
       "    <tr>\n",
       "      <th>2</th>\n",
       "      <td>NaN</td>\n",
       "      <td>NaN</td>\n",
       "      <td>NaN</td>\n",
       "      <td>NaN</td>\n",
       "      <td>NaN</td>\n",
       "      <td>NaN</td>\n",
       "      <td>NaN</td>\n",
       "      <td>NaN</td>\n",
       "      <td>NaN</td>\n",
       "      <td>NaN</td>\n",
       "      <td>0.0010</td>\n",
       "    </tr>\n",
       "    <tr>\n",
       "      <th>3</th>\n",
       "      <td>NaN</td>\n",
       "      <td>NaN</td>\n",
       "      <td>NaN</td>\n",
       "      <td>NaN</td>\n",
       "      <td>NaN</td>\n",
       "      <td>NaN</td>\n",
       "      <td>NaN</td>\n",
       "      <td>NaN</td>\n",
       "      <td>NaN</td>\n",
       "      <td>NaN</td>\n",
       "      <td>0.0005</td>\n",
       "    </tr>\n",
       "    <tr>\n",
       "      <th>4</th>\n",
       "      <td>NaN</td>\n",
       "      <td>NaN</td>\n",
       "      <td>NaN</td>\n",
       "      <td>NaN</td>\n",
       "      <td>NaN</td>\n",
       "      <td>NaN</td>\n",
       "      <td>NaN</td>\n",
       "      <td>NaN</td>\n",
       "      <td>NaN</td>\n",
       "      <td>NaN</td>\n",
       "      <td>0.0001</td>\n",
       "    </tr>\n",
       "  </tbody>\n",
       "</table>\n",
       "</div>"
      ],
      "text/plain": [
       "  sgd_HdAdam sgd_Hd sgd_Hdmomentum  sgd sgdn_Hd sgdn_Hdmomentum sgdn  \\\n",
       "0        NaN    NaN            NaN  NaN     NaN             NaN  NaN   \n",
       "1        NaN    NaN            NaN  NaN     NaN             NaN  NaN   \n",
       "2        NaN    NaN            NaN  NaN     NaN             NaN  NaN   \n",
       "3        NaN    NaN            NaN  NaN     NaN             NaN  NaN   \n",
       "4        NaN    NaN            NaN  NaN     NaN             NaN  NaN   \n",
       "\n",
       "  adam_HdAdam adam adam_Hd  alpha0  \n",
       "0         NaN  NaN     NaN  0.0100  \n",
       "1         NaN  NaN     NaN  0.0050  \n",
       "2         NaN  NaN     NaN  0.0010  \n",
       "3         NaN  NaN     NaN  0.0005  \n",
       "4         NaN  NaN     NaN  0.0001  "
      ]
     },
     "execution_count": 19,
     "metadata": {},
     "output_type": "execute_result"
    }
   ],
   "source": [
    "df"
   ]
  },
  {
   "cell_type": "code",
   "execution_count": 30,
   "metadata": {},
   "outputs": [],
   "source": [
    "df.loc[df['alpha0']==0.005, 'sgdn'] = 2"
   ]
  },
  {
   "cell_type": "code",
   "execution_count": 31,
   "metadata": {},
   "outputs": [
    {
     "data": {
      "text/html": [
       "<div>\n",
       "<style scoped>\n",
       "    .dataframe tbody tr th:only-of-type {\n",
       "        vertical-align: middle;\n",
       "    }\n",
       "\n",
       "    .dataframe tbody tr th {\n",
       "        vertical-align: top;\n",
       "    }\n",
       "\n",
       "    .dataframe thead th {\n",
       "        text-align: right;\n",
       "    }\n",
       "</style>\n",
       "<table border=\"1\" class=\"dataframe\">\n",
       "  <thead>\n",
       "    <tr style=\"text-align: right;\">\n",
       "      <th></th>\n",
       "      <th>sgd_HdAdam</th>\n",
       "      <th>sgd_Hd</th>\n",
       "      <th>sgd_Hdmomentum</th>\n",
       "      <th>sgd</th>\n",
       "      <th>sgdn_Hd</th>\n",
       "      <th>sgdn_Hdmomentum</th>\n",
       "      <th>sgdn</th>\n",
       "      <th>adam_HdAdam</th>\n",
       "      <th>adam</th>\n",
       "      <th>adam_Hd</th>\n",
       "      <th>alpha0</th>\n",
       "    </tr>\n",
       "  </thead>\n",
       "  <tbody>\n",
       "    <tr>\n",
       "      <th>0</th>\n",
       "      <td>NaN</td>\n",
       "      <td>NaN</td>\n",
       "      <td>NaN</td>\n",
       "      <td>NaN</td>\n",
       "      <td>NaN</td>\n",
       "      <td>NaN</td>\n",
       "      <td>NaN</td>\n",
       "      <td>NaN</td>\n",
       "      <td>NaN</td>\n",
       "      <td>NaN</td>\n",
       "      <td>0.0100</td>\n",
       "    </tr>\n",
       "    <tr>\n",
       "      <th>1</th>\n",
       "      <td>NaN</td>\n",
       "      <td>NaN</td>\n",
       "      <td>NaN</td>\n",
       "      <td>NaN</td>\n",
       "      <td>NaN</td>\n",
       "      <td>NaN</td>\n",
       "      <td>2</td>\n",
       "      <td>NaN</td>\n",
       "      <td>NaN</td>\n",
       "      <td>NaN</td>\n",
       "      <td>0.0050</td>\n",
       "    </tr>\n",
       "    <tr>\n",
       "      <th>2</th>\n",
       "      <td>NaN</td>\n",
       "      <td>NaN</td>\n",
       "      <td>NaN</td>\n",
       "      <td>NaN</td>\n",
       "      <td>NaN</td>\n",
       "      <td>NaN</td>\n",
       "      <td>NaN</td>\n",
       "      <td>NaN</td>\n",
       "      <td>NaN</td>\n",
       "      <td>NaN</td>\n",
       "      <td>0.0010</td>\n",
       "    </tr>\n",
       "    <tr>\n",
       "      <th>3</th>\n",
       "      <td>NaN</td>\n",
       "      <td>NaN</td>\n",
       "      <td>NaN</td>\n",
       "      <td>NaN</td>\n",
       "      <td>NaN</td>\n",
       "      <td>NaN</td>\n",
       "      <td>NaN</td>\n",
       "      <td>NaN</td>\n",
       "      <td>NaN</td>\n",
       "      <td>NaN</td>\n",
       "      <td>0.0005</td>\n",
       "    </tr>\n",
       "    <tr>\n",
       "      <th>4</th>\n",
       "      <td>NaN</td>\n",
       "      <td>NaN</td>\n",
       "      <td>NaN</td>\n",
       "      <td>NaN</td>\n",
       "      <td>NaN</td>\n",
       "      <td>NaN</td>\n",
       "      <td>NaN</td>\n",
       "      <td>NaN</td>\n",
       "      <td>NaN</td>\n",
       "      <td>NaN</td>\n",
       "      <td>0.0001</td>\n",
       "    </tr>\n",
       "  </tbody>\n",
       "</table>\n",
       "</div>"
      ],
      "text/plain": [
       "  sgd_HdAdam sgd_Hd sgd_Hdmomentum  sgd sgdn_Hd sgdn_Hdmomentum sgdn  \\\n",
       "0        NaN    NaN            NaN  NaN     NaN             NaN  NaN   \n",
       "1        NaN    NaN            NaN  NaN     NaN             NaN    2   \n",
       "2        NaN    NaN            NaN  NaN     NaN             NaN  NaN   \n",
       "3        NaN    NaN            NaN  NaN     NaN             NaN  NaN   \n",
       "4        NaN    NaN            NaN  NaN     NaN             NaN  NaN   \n",
       "\n",
       "  adam_HdAdam adam adam_Hd  alpha0  \n",
       "0         NaN  NaN     NaN  0.0100  \n",
       "1         NaN  NaN     NaN  0.0050  \n",
       "2         NaN  NaN     NaN  0.0010  \n",
       "3         NaN  NaN     NaN  0.0005  \n",
       "4         NaN  NaN     NaN  0.0001  "
      ]
     },
     "execution_count": 31,
     "metadata": {},
     "output_type": "execute_result"
    }
   ],
   "source": [
    "df"
   ]
  },
  {
   "cell_type": "code",
   "execution_count": 32,
   "metadata": {},
   "outputs": [
    {
     "name": "stdout",
     "output_type": "stream",
     "text": [
      "  sgd_HdAdam sgd_Hd sgd_Hdmomentum  sgd sgdn_Hd sgdn_Hdmomentum sgdn  \\\n",
      "0        NaN    NaN            NaN  NaN     NaN             NaN  NaN   \n",
      "1        NaN    NaN            NaN  NaN     NaN             NaN    2   \n",
      "2        NaN    NaN            NaN  NaN     NaN             NaN  NaN   \n",
      "3        NaN    NaN            NaN  NaN     NaN             NaN  NaN   \n",
      "4        NaN    NaN            NaN  NaN     NaN             NaN  NaN   \n",
      "\n",
      "  adam_HdAdam adam adam_Hd  alpha0  \n",
      "0         NaN  NaN     NaN  0.0100  \n",
      "1         NaN  NaN     NaN  0.0050  \n",
      "2         NaN  NaN     NaN  0.0010  \n",
      "3         NaN  NaN     NaN  0.0005  \n",
      "4         NaN  NaN     NaN  0.0001  \n"
     ]
    }
   ],
   "source": [
    "print(df)"
   ]
  },
  {
   "cell_type": "code",
   "execution_count": null,
   "metadata": {},
   "outputs": [],
   "source": []
  }
 ],
 "metadata": {
  "kernelspec": {
   "display_name": "Python 3",
   "language": "python",
   "name": "python3"
  },
  "language_info": {
   "codemirror_mode": {
    "name": "ipython",
    "version": 3
   },
   "file_extension": ".py",
   "mimetype": "text/x-python",
   "name": "python",
   "nbconvert_exporter": "python",
   "pygments_lexer": "ipython3",
   "version": "3.5.2"
  }
 },
 "nbformat": 4,
 "nbformat_minor": 2
}
